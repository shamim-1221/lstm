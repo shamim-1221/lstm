{
 "cells": [
  {
   "cell_type": "code",
   "execution_count": null,
   "id": "65414ae1",
   "metadata": {},
   "outputs": [],
   "source": [
    "\n",
    "#Aim: Write a program to implement a simple form of a recurrent neural network like LSTM for sentiment\n",
    "#      analysis on datasets like UMICH SI650 for similar\n"
   ]
  },
  {
   "cell_type": "code",
   "execution_count": null,
   "id": "f49c3980",
   "metadata": {},
   "outputs": [],
   "source": []
  },
  {
   "cell_type": "code",
   "execution_count": 1,
   "id": "44885c6b",
   "metadata": {},
   "outputs": [
    {
     "name": "stdout",
     "output_type": "stream",
     "text": [
      "Epoch 1/10\n",
      "156/156 [==============================] - 134s 615ms/step - loss: 0.6837 - accuracy: 0.5689 - val_loss: 0.6887 - val_accuracy: 0.5523\n",
      "Epoch 2/10\n",
      "156/156 [==============================] - 92s 584ms/step - loss: 0.6841 - accuracy: 0.5689 - val_loss: 0.6878 - val_accuracy: 0.5523\n",
      "Epoch 3/10\n",
      "156/156 [==============================] - 105s 674ms/step - loss: 0.6840 - accuracy: 0.5689 - val_loss: 0.6877 - val_accuracy: 0.5523\n",
      "Epoch 4/10\n",
      "156/156 [==============================] - 86s 549ms/step - loss: 0.6836 - accuracy: 0.5691 - val_loss: 0.6948 - val_accuracy: 0.5523\n",
      "Epoch 5/10\n",
      "156/156 [==============================] - 83s 534ms/step - loss: 0.6846 - accuracy: 0.5693 - val_loss: 0.6877 - val_accuracy: 0.5523\n",
      "Epoch 6/10\n",
      "156/156 [==============================] - 79s 508ms/step - loss: 0.6836 - accuracy: 0.5693 - val_loss: 0.6877 - val_accuracy: 0.5523\n",
      "Epoch 7/10\n",
      "156/156 [==============================] - 78s 499ms/step - loss: 0.6838 - accuracy: 0.5693 - val_loss: 0.6880 - val_accuracy: 0.5523\n",
      "Epoch 8/10\n",
      "156/156 [==============================] - 77s 494ms/step - loss: 0.6837 - accuracy: 0.5693 - val_loss: 0.6878 - val_accuracy: 0.5523\n",
      "Epoch 9/10\n",
      "156/156 [==============================] - 81s 517ms/step - loss: 0.6841 - accuracy: 0.5693 - val_loss: 0.6889 - val_accuracy: 0.5523\n",
      "Epoch 10/10\n",
      "156/156 [==============================] - 81s 515ms/step - loss: 0.6837 - accuracy: 0.5693 - val_loss: 0.6892 - val_accuracy: 0.5523\n",
      "44/44 [==============================] - 3s 68ms/step - loss: 0.6800 - accuracy: 0.5809\n",
      "Test loss: 0.6800463199615479\n",
      "Test accuracy: 0.5809248685836792\n"
     ]
    },
    {
     "data": {
      "image/png": "[encoded data removed]",
      "text/plain": [
       "<Figure size 432x288 with 1 Axes>"
      ]
     },
     "metadata": {
      "needs_background": "light"
     },
     "output_type": "display_data"
    },
    {
     "name": "stdout",
     "output_type": "stream",
     "text": [
      "Text: this quiz sucks and harry potter sucks ok bye <OOV> <OOV> <OOV> <OOV> <OOV> <OOV> <OOV> <OOV> <OOV> <OOV> <OOV> <OOV> <OOV> <OOV> <OOV> <OOV> <OOV> <OOV> <OOV> <OOV> <OOV> <OOV> <OOV> <OOV> <OOV> <OOV> <OOV> <OOV> <OOV> <OOV> <OOV> <OOV> <OOV> <OOV> <OOV> <OOV> <OOV> <OOV> <OOV> <OOV> <OOV> <OOV> <OOV> <OOV> <OOV> <OOV> <OOV> <OOV> <OOV> <OOV> <OOV> <OOV> <OOV> <OOV> <OOV> <OOV> <OOV> <OOV> <OOV> <OOV> <OOV> <OOV> <OOV> <OOV> <OOV> <OOV> <OOV> <OOV> <OOV> <OOV> <OOV> <OOV> <OOV> <OOV> <OOV> <OOV> <OOV> <OOV> <OOV> <OOV> <OOV> <OOV> <OOV> <OOV> <OOV> <OOV> <OOV> <OOV> <OOV> <OOV> <OOV>\n",
      "Actual label: 0\n",
      "Predicted label: 1\n"
     ]
    }
   ],
   "source": [
    "import pandas as pd\n",
    "import numpy as np\n",
    "import tensorflow as tf\n",
    "from tensorflow.keras.preprocessing.text import Tokenizer\n",
    "from tensorflow.keras.preprocessing.sequence import pad_sequences\n",
    "from sklearn.model_selection import train_test_split\n",
    "import matplotlib.pyplot as plt\n",
    "\n",
    "#Load data\n",
    "data = pd.read_csv(\"training.txt\", delimiter=\"\\t\", names=[\"label\", \"text\"])\n",
    "\n",
    "# Split data into training and testing sets\n",
    "X_train, X_test, y_train, y_test = train_test_split(data[\"text\"],data[\"label\"],test_size=0.2, random_state=42)\n",
    "\n",
    "# Tokenize words\n",
    "tokenizer = Tokenizer(num_words=5000, oov_token=\"<OOV>\")\n",
    "tokenizer.fit_on_texts(X_train)\n",
    "\n",
    "# Convert words to sequences\n",
    "X_train_seq = tokenizer.texts_to_sequences(X_train)\n",
    "X_test_seq = tokenizer.texts_to_sequences(X_test)\n",
    "\n",
    "# Pad sequences to have same length\n",
    "max_length = 100\n",
    "X_train_pad = pad_sequences(X_train_seq, maxlen=max_length,padding=\"post\",truncating=\"post\")\n",
    "X_test_pad = pad_sequences(X_test_seq, maxlen=max_length,padding=\"post\",truncating=\"post\")\n",
    "\n",
    "# Build LSTM model\n",
    "model = tf.keras.models.Sequential([\n",
    "    tf.keras.layers.Embedding(input_dim=5000, output_dim=32,input_length=max_length),\n",
    "    tf.keras.layers.LSTM(units=64, dropout=0.2, recurrent_dropout=0.2),\n",
    "    tf.keras.layers.Dense(1, activation=\"sigmoid\")\n",
    "])\n",
    "\n",
    "# Compile model\n",
    "model.compile(optimizer=\"adam\", loss=\"binary_crossentropy\",metrics=[\"accuracy\"])\n",
    "\n",
    "# Train model\n",
    "history = model.fit(X_train_pad, y_train, epochs=10, batch_size=32,validation_split=0.1)\n",
    "\n",
    "# Evaluate model on test data\n",
    "loss, accuracy = model.evaluate(X_test_pad, y_test)\n",
    "print(\"Test loss:\", loss)\n",
    "print(\"Test accuracy:\", accuracy)\n",
    "\n",
    "# Plot training and validation accuracy over time\n",
    "plt.plot(history.history[\"accuracy\"], label=\"Training accuracy\")\n",
    "plt.plot(history.history[\"val_accuracy\"], label=\"Validation accuracy\")\n",
    "plt.xlabel(\"Epoch\")\n",
    "plt.ylabel(\"Accuracy\")\n",
    "plt.legend()\n",
    "plt.show()\n",
    "\n",
    "# Make predictions on test data\n",
    "predictions = model.predict(X_test_pad)\n",
    "\n",
    "# Print input, output, and prediction for random example\n",
    "index = np.random.randint(0, len(X_test_pad))\n",
    "text = tokenizer.sequences_to_texts([X_test_pad[index]])[0]\n",
    "label = y_test.values[index]\n",
    "prediction = predictions[index][0]\n",
    "print(\"Text:\", text)\n",
    "print(\"Actual label:\", label)\n",
    "print(\"Predicted label:\", round(prediction))"
   ]
  },
  {
   "cell_type": "code",
   "execution_count": null,
   "id": "b8b0da2f",
   "metadata": {},
   "outputs": [],
   "source": []
  },
  {
   "cell_type": "code",
   "execution_count": null,
   "id": "a33345d9",
   "metadata": {},
   "outputs": [],
   "source": []
  },
  {
   "cell_type": "code",
   "execution_count": null,
   "id": "2d992935",
   "metadata": {},
   "outputs": [],
   "source": []
  },
  {
   "cell_type": "code",
   "execution_count": null,
   "id": "cfdc15a0",
   "metadata": {},
   "outputs": [],
   "source": []
  },
  {
   "cell_type": "code",
   "execution_count": null,
   "id": "5b7647fe",
   "metadata": {},
   "outputs": [],
   "source": []
  }
 ],
 "metadata": {
  "kernelspec": {
   "display_name": "Python 3 (ipykernel)",
   "language": "python",
   "name": "python3"
  },
  "language_info": {
   "codemirror_mode": {
    "name": "ipython",
    "version": 3
   },
   "file_extension": ".py",
   "mimetype": "text/x-python",
   "name": "python",
   "nbconvert_exporter": "python",
   "pygments_lexer": "ipython3",
   "version": "3.9.7"
  },
  "varInspector": {
   "cols": {
    "lenName": 16,
    "lenType": 16,
    "lenVar": 40
   },
   "kernels_config": {
    "python": {
     "delete_cmd_postfix": "",
     "delete_cmd_prefix": "del ",
     "library": "var_list.py",
     "varRefreshCmd": "print(var_dic_list())"
    },
    "r": {
     "delete_cmd_postfix": ") ",
     "delete_cmd_prefix": "rm(",
     "library": "var_list.r",
     "varRefreshCmd": "cat(var_dic_list()) "
    }
   },
   "types_to_exclude": [
    "module",
    "function",
    "builtin_function_or_method",
    "instance",
    "_Feature"
   ],
   "window_display": false
  }
 },
 "nbformat": 4,
 "nbformat_minor": 5
}
